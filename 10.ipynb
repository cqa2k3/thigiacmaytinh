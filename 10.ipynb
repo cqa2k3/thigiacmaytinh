{
 "cells": [
  {
   "cell_type": "code",
   "execution_count": 2,
   "id": "a89ece1b-6ead-4af1-a621-a4f984967065",
   "metadata": {},
   "outputs": [],
   "source": [
    "# import thuvien\n",
    "from PIL import Image\n",
    "import matplotlib.pyplot as plt"
   ]
  },
  {
   "cell_type": "code",
   "execution_count": 10,
   "id": "9c60ac36-ff81-4d7e-8bcc-80b80367ad20",
   "metadata": {},
   "outputs": [
    {
     "name": "stdout",
     "output_type": "stream",
     "text": [
      "[(433.0483870967742, 155.3064516129034), (990.4677419354839, 212.08064516129036), (456.27419354838713, 575.9516129032259), (1036.9193548387098, 645.6290322580646), (765.9516129032259, 227.5645161290323), (698.8548387096773, 209.5000000000001)]\n"
     ]
    }
   ],
   "source": [
    "# duong dẫn ảnh\n",
    "my_path = 'D:/hinhanh/anh5.jpg'\n",
    "# đọc ảnh ra\n",
    "im = Image.open(my_path)\n",
    "# chuyển đổi backend\n",
    "plt.switch_backend('tkagg')\n",
    "# hiển thị ảnh\n",
    "plt.imshow(im)\n",
    "plt.title(\"Click on the imgae to select points\")\n",
    "# sử dụng hàm ginput để chọn điểm trong ảnh\n",
    "points = plt.ginput(6)\n",
    "print(points)\n",
    "# hiển thị\n",
    "plt.show()"
   ]
  },
  {
   "cell_type": "code",
   "execution_count": 9,
   "id": "5a148cee-862c-4541-b44f-cb777008cac3",
   "metadata": {},
   "outputs": [],
   "source": [
    "# Vẽ lại các điểm đã chọn bằng dấu * màu đỏ\n",
    "plt.close()\n",
    "\n",
    "# Vẽ lại\n",
    "plt.imshow(im)\n",
    "for point in points:\n",
    "    x, y = point\n",
    "    plt.plot(x,y, 'r*')\n",
    "\n",
    "plt.show()"
   ]
  },
  {
   "cell_type": "code",
   "execution_count": null,
   "id": "d5197fec-17bc-4af3-abf6-7b4382d0d89f",
   "metadata": {},
   "outputs": [],
   "source": []
  }
 ],
 "metadata": {
  "kernelspec": {
   "display_name": "Python 3 (ipykernel)",
   "language": "python",
   "name": "python3"
  },
  "language_info": {
   "codemirror_mode": {
    "name": "ipython",
    "version": 3
   },
   "file_extension": ".py",
   "mimetype": "text/x-python",
   "name": "python",
   "nbconvert_exporter": "python",
   "pygments_lexer": "ipython3",
   "version": "3.12.4"
  }
 },
 "nbformat": 4,
 "nbformat_minor": 5
}
